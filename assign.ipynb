{
 "cells": [
  {
   "cell_type": "code",
   "execution_count": 1,
   "id": "2dec478b-7e8a-4740-94db-93e7312d3e8b",
   "metadata": {},
   "outputs": [],
   "source": [
    "# Explain the key features of Python that make it a popular choice for programming?\n",
    "\n",
    "# 1.It is easy to write and understand.\n",
    "# 2.Its syntax is quite simple.\n",
    "# 3.Its is widely used in many field.\n",
    "# 4.It has lots of library which help the developer.\n",
    "# 5.It has a good community support.\n"
   ]
  },
  {
   "cell_type": "code",
   "execution_count": 2,
   "id": "84726a53-e1ba-4771-8731-e39f56c2f522",
   "metadata": {},
   "outputs": [],
   "source": [
    "# Q.Describe the role of predefined keywords in Python and provide examples of how they are used in a program?\n",
    "\n",
    "# There are lots of predefined keywords in python, they all perform a specific task .Like \"print\" keyword is used to display whatever is passed through it.Keyword help us in our programming by performing various task .Some important keyword are -\n",
    "\n",
    "# -print\n",
    "# -if\n",
    "# -else\n",
    "# -def\n",
    "# -while\n",
    "# -for\n",
    "# -NOne\n",
    "# -break\n",
    "# -return"
   ]
  },
  {
   "cell_type": "code",
   "execution_count": 3,
   "id": "3de66952-3cd4-4b38-a808-7f26aeb3c28d",
   "metadata": {},
   "outputs": [],
   "source": [
    "# Q.Compare and contrast mutable and immutable objects in Python with example?\n",
    "\n",
    "# Mutable objects are those in python who once created can be changed in later part of the program .Element present in mutable object can be remove and added to the object and value of one element can be updated to another value.\n",
    "\n",
    "# But this is not the case with immutable object ,immutable object once created then it cannot changed in the later part of the program\n",
    "\n",
    "# some example are-\n",
    "\n",
    "# mutable object-list,dictionary,set\n",
    "# immutable-tuple,string\n",
    "\n",
    "# below is some example"
   ]
  },
  {
   "cell_type": "code",
   "execution_count": 4,
   "id": "ac1875f4-ea0d-47f2-bcf0-047d21ad3f49",
   "metadata": {},
   "outputs": [],
   "source": [
    "#we will take a list\n",
    "\n",
    "list1=[1,2,3,4,5]\n",
    "\n",
    "#in list we can add element \n",
    "list1.append(9)"
   ]
  },
  {
   "cell_type": "code",
   "execution_count": 5,
   "id": "46eb432a-4cd2-407a-9f70-2be99ca9e1d0",
   "metadata": {},
   "outputs": [
    {
     "data": {
      "text/plain": [
       "[1, 2, 3, 4, 5, 9]"
      ]
     },
     "execution_count": 5,
     "metadata": {},
     "output_type": "execute_result"
    }
   ],
   "source": [
    "list1"
   ]
  },
  {
   "cell_type": "code",
   "execution_count": 6,
   "id": "20ed7fce-23f4-4144-8041-a35d32298066",
   "metadata": {},
   "outputs": [],
   "source": [
    "#we can update element as well\n",
    "\n",
    "list1[0]=8"
   ]
  },
  {
   "cell_type": "code",
   "execution_count": 7,
   "id": "e35ef061-92fd-40db-b309-0bc91decb036",
   "metadata": {},
   "outputs": [
    {
     "data": {
      "text/plain": [
       "[8, 2, 3, 4, 5, 9]"
      ]
     },
     "execution_count": 7,
     "metadata": {},
     "output_type": "execute_result"
    }
   ],
   "source": [
    "list1"
   ]
  },
  {
   "cell_type": "code",
   "execution_count": 8,
   "id": "b4c8fa3a-f0c4-4dc3-a8f6-efe006e4ac77",
   "metadata": {},
   "outputs": [
    {
     "ename": "TypeError",
     "evalue": "'tuple' object does not support item assignment",
     "output_type": "error",
     "traceback": [
      "\u001b[0;31m---------------------------------------------------------------------------\u001b[0m",
      "\u001b[0;31mTypeError\u001b[0m                                 Traceback (most recent call last)",
      "Cell \u001b[0;32mIn[8], line 3\u001b[0m\n\u001b[1;32m      1\u001b[0m \u001b[38;5;66;03m#now in tuple\u001b[39;00m\n\u001b[1;32m      2\u001b[0m tuple1\u001b[38;5;241m=\u001b[39m(\u001b[38;5;241m1\u001b[39m,\u001b[38;5;241m2\u001b[39m,\u001b[38;5;241m3\u001b[39m,\u001b[38;5;241m4\u001b[39m,\u001b[38;5;241m5\u001b[39m)\n\u001b[0;32m----> 3\u001b[0m \u001b[43mtuple1\u001b[49m\u001b[43m[\u001b[49m\u001b[38;5;241;43m0\u001b[39;49m\u001b[43m]\u001b[49m\u001b[38;5;241m=\u001b[39m\u001b[38;5;241m98\u001b[39m\n\u001b[1;32m      5\u001b[0m \u001b[38;5;66;03m# it will throw an error because they are immutable\u001b[39;00m\n",
      "\u001b[0;31mTypeError\u001b[0m: 'tuple' object does not support item assignment"
     ]
    }
   ],
   "source": [
    "#now in tuple\n",
    "tuple1=(1,2,3,4,5)\n",
    "tuple1[0]=98\n",
    "\n",
    "# it will throw an error because they are immutable"
   ]
  },
  {
   "cell_type": "code",
   "execution_count": 10,
   "id": "266942ad-dd39-4a40-ad57-a29c62acdb8b",
   "metadata": {},
   "outputs": [],
   "source": [
    "# Q.Discuss the different types of operators in Python and provide examples of how they are used?\n"
   ]
  },
  {
   "cell_type": "code",
   "execution_count": 11,
   "id": "2a8eb90f-6d94-450f-af4a-4671182b4ff9",
   "metadata": {},
   "outputs": [
    {
     "name": "stdout",
     "output_type": "stream",
     "text": [
      "done\n"
     ]
    }
   ],
   "source": [
    "#assignment operator\n",
    "\n",
    "a=5\n",
    "\n",
    "\"\"\"\n",
    " =,+=,-=,*=,/= is assignment operator used to assign values to the variable\n",
    "\"\"\"\n",
    "\n",
    "\n",
    "#arithmetic operator\n",
    "b=10+5\n",
    "\n",
    "\"\"\"\n",
    "same way there are +, - , * ,/ ,% ,** - they are use to perform mathmatical operation\n",
    "\"\"\"\n",
    "\n",
    "#comparison operator\n",
    "\n",
    "a==b\n",
    "a!=b\n",
    "\n",
    "\"\"\"\n",
    "same way there are many comparison operator like == , != ,> , < , >= these always return boolean values and is used to compare the quantities\n",
    "\"\"\"\n",
    "\n",
    "\n",
    "#logical operator\n",
    "\n",
    "a and b\n",
    "a or b\n",
    "not a\n",
    "\n",
    "\"\"\"\n",
    "These all are logical operator and they are used in checking up the condition , and will return true if all the statemenet is true ,or will return true if any of the \n",
    "statement is true and not will just reverse the result\n",
    "\n",
    "\"\"\"\n",
    "\n",
    "#bitwise operator\n",
    "\"\"\"\n",
    "There is another operator bitwise but it is not much used in the machine learning \n",
    "\"\"\"\n",
    "\n",
    "print(\"done\")"
   ]
  },
  {
   "cell_type": "code",
   "execution_count": 12,
   "id": "a85c4f0b-64c9-4a04-b412-e8f83cfbe7ae",
   "metadata": {},
   "outputs": [],
   "source": [
    "# Q.Explain the concept of type casting in Python with examples?\n",
    "\n",
    "# One data type can be converted into another data type if it is valid , below is the code "
   ]
  },
  {
   "cell_type": "code",
   "execution_count": 13,
   "id": "0988f53d-32a1-4dc1-b7e9-f80c7c5188c7",
   "metadata": {},
   "outputs": [
    {
     "data": {
      "text/plain": [
       "str"
      ]
     },
     "execution_count": 13,
     "metadata": {},
     "output_type": "execute_result"
    }
   ],
   "source": [
    "a=\"10\"\n",
    "# it is a string\n",
    "type(a)"
   ]
  },
  {
   "cell_type": "code",
   "execution_count": 14,
   "id": "00f629c7-f24c-4093-995b-d602dfaedc56",
   "metadata": {},
   "outputs": [
    {
     "data": {
      "text/plain": [
       "(10, 10.0)"
      ]
     },
     "execution_count": 14,
     "metadata": {},
     "output_type": "execute_result"
    }
   ],
   "source": [
    "#now we will conveert it into a integter and float\n",
    "\n",
    "int(a) ,float(a)"
   ]
  },
  {
   "cell_type": "code",
   "execution_count": 15,
   "id": "510e95c9-9c9a-4853-8430-5ce45b65ad88",
   "metadata": {},
   "outputs": [
    {
     "data": {
      "text/plain": [
       "(2, 10.0)"
      ]
     },
     "execution_count": 15,
     "metadata": {},
     "output_type": "execute_result"
    }
   ],
   "source": [
    "\"\"\"\n",
    "Note only those string can be converted into integer or float which only contain number \n",
    "\"\"\"\n",
    "\n",
    "#now we will convert float to integer and integer to float \n",
    "\n",
    "q=10\n",
    "w=2.2\n",
    "\n",
    "int(w) ,float(q)"
   ]
  },
  {
   "cell_type": "code",
   "execution_count": 16,
   "id": "545ea44f-9c6f-4508-8af6-6a6dd4317025",
   "metadata": {},
   "outputs": [
    {
     "data": {
      "text/plain": [
       "[1, 2, 3, 4, 5]"
      ]
     },
     "execution_count": 16,
     "metadata": {},
     "output_type": "execute_result"
    }
   ],
   "source": [
    "#we can also convert tuple to list and so on\n",
    "a=(1,2,3,4,5)\n",
    "list(a)"
   ]
  },
  {
   "cell_type": "code",
   "execution_count": 18,
   "id": "6e23433d-5309-4798-93f3-2ed467c0ea2f",
   "metadata": {},
   "outputs": [],
   "source": [
    "# Q.How do conditional statements work in Python? Illustrate with examples?\n",
    "\n",
    "# conditional statement are if-else ,simple if , if-elif-else ,and there are nested if else as well."
   ]
  },
  {
   "cell_type": "code",
   "execution_count": 19,
   "id": "b27ae1f4-f441-442d-be6e-403f4be09ffe",
   "metadata": {},
   "outputs": [
    {
     "name": "stdout",
     "output_type": "stream",
     "text": [
      "b is greater\n"
     ]
    }
   ],
   "source": [
    "a=10\n",
    "b=15\n",
    "if a>b:\n",
    "    print(\"a is greater \")\n",
    "else:\n",
    "    print(\"b is greater\")\n",
    "    \n",
    "    \n",
    "# here the if condition is checked and if it is true then the body of the if statement run and the if else statement is over and the program will will come out of it"
   ]
  },
  {
   "cell_type": "code",
   "execution_count": 20,
   "id": "b87ee4e6-5e4a-4f80-9279-3a8deec80e00",
   "metadata": {},
   "outputs": [
    {
     "name": "stdout",
     "output_type": "stream",
     "text": [
      "a is greater \n"
     ]
    },
    {
     "data": {
      "text/plain": [
       "'\\nwhatever the type of conditional statement it is if the one condition is true the program will come out of it\\n\\n\\n'"
      ]
     },
     "execution_count": 20,
     "metadata": {},
     "output_type": "execute_result"
    }
   ],
   "source": [
    "a=100\n",
    "b=15\n",
    "if a>b:\n",
    "    print(\"a is greater \")\n",
    "else:\n",
    "    print(\"b is greater\")\n",
    "    \n",
    "# now here if statement is true so its body will run and the program will come out of it \n",
    "\n",
    "\n",
    "\n",
    "\n",
    "\"\"\"\n",
    "whatever the type of conditional statement it is if the one condition is true the program will come out of it\n",
    "\n",
    "\n",
    "\"\"\""
   ]
  },
  {
   "cell_type": "code",
   "execution_count": 21,
   "id": "fd14c4aa-c97b-4e57-95e1-48196544c8ea",
   "metadata": {},
   "outputs": [],
   "source": [
    "# Q.Describe the different types of loops in Python and their use cases with examples?\n",
    "\n",
    "# There is two type of loops in python ,one is for loop and another is while loop .\n",
    "\n",
    "# for loop will iterate over a sequence of element and while loops will run til the time until the given statement is not false"
   ]
  },
  {
   "cell_type": "code",
   "execution_count": 22,
   "id": "63e29308-9d97-4c1f-976c-3b7c7b5d3f05",
   "metadata": {},
   "outputs": [
    {
     "name": "stdout",
     "output_type": "stream",
     "text": [
      "0\n",
      "1\n",
      "2\n",
      "3\n",
      "4\n",
      "5\n",
      "6\n",
      "7\n",
      "8\n",
      "9\n"
     ]
    }
   ],
   "source": [
    "for i in range(10):\n",
    "    print(i)"
   ]
  },
  {
   "cell_type": "code",
   "execution_count": 23,
   "id": "b0c2b61d-c64c-4f58-be5d-52567be04dcc",
   "metadata": {},
   "outputs": [
    {
     "name": "stdout",
     "output_type": "stream",
     "text": [
      "p\n",
      "w\n",
      "s\n",
      "k\n",
      "i\n",
      "l\n",
      "l\n",
      "s\n"
     ]
    }
   ],
   "source": [
    "for i in \"pwskills\":\n",
    "    print(i)"
   ]
  },
  {
   "cell_type": "code",
   "execution_count": 24,
   "id": "8122365f-baf7-4b52-8ad7-38fe3576706e",
   "metadata": {},
   "outputs": [
    {
     "name": "stdout",
     "output_type": "stream",
     "text": [
      "0\n",
      "1\n",
      "2\n",
      "3\n",
      "4\n",
      "5\n",
      "6\n",
      "7\n",
      "8\n",
      "9\n"
     ]
    }
   ],
   "source": [
    "a=10\n",
    "b=0\n",
    "while b<a:\n",
    "    print(b)\n",
    "    b+=1"
   ]
  }
 ],
 "metadata": {
  "kernelspec": {
   "display_name": "Python 3 (ipykernel)",
   "language": "python",
   "name": "python3"
  },
  "language_info": {
   "codemirror_mode": {
    "name": "ipython",
    "version": 3
   },
   "file_extension": ".py",
   "mimetype": "text/x-python",
   "name": "python",
   "nbconvert_exporter": "python",
   "pygments_lexer": "ipython3",
   "version": "3.10.8"
  }
 },
 "nbformat": 4,
 "nbformat_minor": 5
}
